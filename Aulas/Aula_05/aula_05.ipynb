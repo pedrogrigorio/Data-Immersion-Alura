{
 "cells": [
  {
   "cell_type": "markdown",
   "metadata": {},
   "source": [
    "# Valores de Imóveis em São Paulo"
   ]
  },
  {
   "cell_type": "markdown",
   "metadata": {},
   "source": [
    "## Inicialização do dataframe"
   ]
  },
  {
   "cell_type": "code",
   "execution_count": 26,
   "metadata": {},
   "outputs": [
    {
     "data": {
      "text/html": [
       "<div>\n",
       "<style scoped>\n",
       "    .dataframe tbody tr th:only-of-type {\n",
       "        vertical-align: middle;\n",
       "    }\n",
       "\n",
       "    .dataframe tbody tr th {\n",
       "        vertical-align: top;\n",
       "    }\n",
       "\n",
       "    .dataframe thead th {\n",
       "        text-align: right;\n",
       "    }\n",
       "</style>\n",
       "<table border=\"1\" class=\"dataframe\">\n",
       "  <thead>\n",
       "    <tr style=\"text-align: right;\">\n",
       "      <th></th>\n",
       "      <th>Rua</th>\n",
       "      <th>Bairro</th>\n",
       "      <th>Cidade</th>\n",
       "      <th>Metragem</th>\n",
       "      <th>Quartos</th>\n",
       "      <th>Banheiros</th>\n",
       "      <th>Vagas</th>\n",
       "      <th>Valor_anuncio</th>\n",
       "      <th>Valor_mm</th>\n",
       "      <th>Valor_m2</th>\n",
       "      <th>...</th>\n",
       "      <th>V003</th>\n",
       "      <th>V004</th>\n",
       "      <th>V005</th>\n",
       "      <th>V006</th>\n",
       "      <th>V007</th>\n",
       "      <th>V008</th>\n",
       "      <th>V009</th>\n",
       "      <th>V010</th>\n",
       "      <th>V011</th>\n",
       "      <th>V012</th>\n",
       "    </tr>\n",
       "  </thead>\n",
       "  <tbody>\n",
       "    <tr>\n",
       "      <th>0</th>\n",
       "      <td>Avenida Itacira, 255</td>\n",
       "      <td>Planalto Paulista</td>\n",
       "      <td>São Paulo</td>\n",
       "      <td>1000</td>\n",
       "      <td>4</td>\n",
       "      <td>8</td>\n",
       "      <td>6</td>\n",
       "      <td>7000000.00</td>\n",
       "      <td>7.00</td>\n",
       "      <td>7000.00</td>\n",
       "      <td>...</td>\n",
       "      <td>2.66</td>\n",
       "      <td>2.04</td>\n",
       "      <td>3158.96</td>\n",
       "      <td>22210644.93</td>\n",
       "      <td>5570.65</td>\n",
       "      <td>25770816.97</td>\n",
       "      <td>2096.19</td>\n",
       "      <td>13029851.56</td>\n",
       "      <td>3930.35</td>\n",
       "      <td>17241576.74</td>\n",
       "    </tr>\n",
       "    <tr>\n",
       "      <th>1</th>\n",
       "      <td>Rua Aurelia Perez Alvarez, 42</td>\n",
       "      <td>Jardim dos Estados</td>\n",
       "      <td>São Paulo</td>\n",
       "      <td>496</td>\n",
       "      <td>4</td>\n",
       "      <td>4</td>\n",
       "      <td>4</td>\n",
       "      <td>3700000.00</td>\n",
       "      <td>3.70</td>\n",
       "      <td>7459.68</td>\n",
       "      <td>...</td>\n",
       "      <td>3.13</td>\n",
       "      <td>1.96</td>\n",
       "      <td>7600.44</td>\n",
       "      <td>36778930.17</td>\n",
       "      <td>7890.53</td>\n",
       "      <td>35886906.64</td>\n",
       "      <td>4149.00</td>\n",
       "      <td>26760682.90</td>\n",
       "      <td>6063.92</td>\n",
       "      <td>27502674.90</td>\n",
       "    </tr>\n",
       "    <tr>\n",
       "      <th>2</th>\n",
       "      <td>Rua Alba Valdez</td>\n",
       "      <td>Jardim Reimberg</td>\n",
       "      <td>São Paulo</td>\n",
       "      <td>125</td>\n",
       "      <td>4</td>\n",
       "      <td>3</td>\n",
       "      <td>2</td>\n",
       "      <td>380000.00</td>\n",
       "      <td>0.38</td>\n",
       "      <td>3040.00</td>\n",
       "      <td>...</td>\n",
       "      <td>3.47</td>\n",
       "      <td>3.06</td>\n",
       "      <td>805.13</td>\n",
       "      <td>769188.78</td>\n",
       "      <td>1011.75</td>\n",
       "      <td>757433.42</td>\n",
       "      <td>518.77</td>\n",
       "      <td>426672.78</td>\n",
       "      <td>858.51</td>\n",
       "      <td>414378.88</td>\n",
       "    </tr>\n",
       "    <tr>\n",
       "      <th>3</th>\n",
       "      <td>Rua Tobias Barreto, 195</td>\n",
       "      <td>Mooca</td>\n",
       "      <td>São Paulo</td>\n",
       "      <td>100</td>\n",
       "      <td>3</td>\n",
       "      <td>2</td>\n",
       "      <td>2</td>\n",
       "      <td>540000.00</td>\n",
       "      <td>0.54</td>\n",
       "      <td>5400.00</td>\n",
       "      <td>...</td>\n",
       "      <td>3.00</td>\n",
       "      <td>1.99</td>\n",
       "      <td>2338.05</td>\n",
       "      <td>7826370.15</td>\n",
       "      <td>2447.89</td>\n",
       "      <td>7925839.76</td>\n",
       "      <td>1543.29</td>\n",
       "      <td>4646566.16</td>\n",
       "      <td>1909.04</td>\n",
       "      <td>5050712.69</td>\n",
       "    </tr>\n",
       "    <tr>\n",
       "      <th>4</th>\n",
       "      <td>Rua Graham Bell</td>\n",
       "      <td>Santo Amaro</td>\n",
       "      <td>São Paulo</td>\n",
       "      <td>440</td>\n",
       "      <td>4</td>\n",
       "      <td>4</td>\n",
       "      <td>6</td>\n",
       "      <td>1980000.00</td>\n",
       "      <td>1.98</td>\n",
       "      <td>4500.00</td>\n",
       "      <td>...</td>\n",
       "      <td>3.51</td>\n",
       "      <td>2.31</td>\n",
       "      <td>1026.36</td>\n",
       "      <td>272168.67</td>\n",
       "      <td>1143.96</td>\n",
       "      <td>167733.64</td>\n",
       "      <td>735.67</td>\n",
       "      <td>367088.08</td>\n",
       "      <td>1086.94</td>\n",
       "      <td>159622.46</td>\n",
       "    </tr>\n",
       "    <tr>\n",
       "      <th>...</th>\n",
       "      <td>...</td>\n",
       "      <td>...</td>\n",
       "      <td>...</td>\n",
       "      <td>...</td>\n",
       "      <td>...</td>\n",
       "      <td>...</td>\n",
       "      <td>...</td>\n",
       "      <td>...</td>\n",
       "      <td>...</td>\n",
       "      <td>...</td>\n",
       "      <td>...</td>\n",
       "      <td>...</td>\n",
       "      <td>...</td>\n",
       "      <td>...</td>\n",
       "      <td>...</td>\n",
       "      <td>...</td>\n",
       "      <td>...</td>\n",
       "      <td>...</td>\n",
       "      <td>...</td>\n",
       "      <td>...</td>\n",
       "      <td>...</td>\n",
       "    </tr>\n",
       "    <tr>\n",
       "      <th>5599</th>\n",
       "      <td>Rua Pedro Teixeira</td>\n",
       "      <td>Vila Olímpia</td>\n",
       "      <td>São Paulo</td>\n",
       "      <td>157</td>\n",
       "      <td>3</td>\n",
       "      <td>2</td>\n",
       "      <td>2</td>\n",
       "      <td>960000.00</td>\n",
       "      <td>0.96</td>\n",
       "      <td>6114.65</td>\n",
       "      <td>...</td>\n",
       "      <td>2.17</td>\n",
       "      <td>1.27</td>\n",
       "      <td>5054.58</td>\n",
       "      <td>33245189.73</td>\n",
       "      <td>5231.93</td>\n",
       "      <td>33485189.78</td>\n",
       "      <td>3649.06</td>\n",
       "      <td>26562232.53</td>\n",
       "      <td>4551.66</td>\n",
       "      <td>29032823.35</td>\n",
       "    </tr>\n",
       "    <tr>\n",
       "      <th>5600</th>\n",
       "      <td>Avenida Odila</td>\n",
       "      <td>Planalto Paulista</td>\n",
       "      <td>São Paulo</td>\n",
       "      <td>267</td>\n",
       "      <td>3</td>\n",
       "      <td>6</td>\n",
       "      <td>4</td>\n",
       "      <td>1500000.00</td>\n",
       "      <td>1.50</td>\n",
       "      <td>5617.98</td>\n",
       "      <td>...</td>\n",
       "      <td>2.81</td>\n",
       "      <td>1.60</td>\n",
       "      <td>4249.33</td>\n",
       "      <td>24499871.44</td>\n",
       "      <td>5180.14</td>\n",
       "      <td>25047413.33</td>\n",
       "      <td>2618.76</td>\n",
       "      <td>17705032.31</td>\n",
       "      <td>3977.93</td>\n",
       "      <td>21495997.85</td>\n",
       "    </tr>\n",
       "    <tr>\n",
       "      <th>5601</th>\n",
       "      <td>Rua Tapuçu</td>\n",
       "      <td>Vila Sofia</td>\n",
       "      <td>São Paulo</td>\n",
       "      <td>95</td>\n",
       "      <td>2</td>\n",
       "      <td>2</td>\n",
       "      <td>2</td>\n",
       "      <td>665000.00</td>\n",
       "      <td>0.67</td>\n",
       "      <td>7000.00</td>\n",
       "      <td>...</td>\n",
       "      <td>2.99</td>\n",
       "      <td>1.81</td>\n",
       "      <td>2425.09</td>\n",
       "      <td>6878872.25</td>\n",
       "      <td>2543.80</td>\n",
       "      <td>6913867.79</td>\n",
       "      <td>1561.58</td>\n",
       "      <td>4261814.01</td>\n",
       "      <td>2062.09</td>\n",
       "      <td>4596759.57</td>\n",
       "    </tr>\n",
       "    <tr>\n",
       "      <th>5603</th>\n",
       "      <td>Rua Estero Belaco</td>\n",
       "      <td>Vila da Saúde</td>\n",
       "      <td>São Paulo</td>\n",
       "      <td>205</td>\n",
       "      <td>3</td>\n",
       "      <td>3</td>\n",
       "      <td>6</td>\n",
       "      <td>1050000.00</td>\n",
       "      <td>1.05</td>\n",
       "      <td>5121.95</td>\n",
       "      <td>...</td>\n",
       "      <td>2.75</td>\n",
       "      <td>1.50</td>\n",
       "      <td>5650.20</td>\n",
       "      <td>20344622.14</td>\n",
       "      <td>5750.84</td>\n",
       "      <td>20127679.27</td>\n",
       "      <td>3459.68</td>\n",
       "      <td>16021825.60</td>\n",
       "      <td>4362.79</td>\n",
       "      <td>16264378.33</td>\n",
       "    </tr>\n",
       "    <tr>\n",
       "      <th>5604</th>\n",
       "      <td>Rua Barão de Tramandaí, 0</td>\n",
       "      <td>Vila Alpina</td>\n",
       "      <td>São Paulo</td>\n",
       "      <td>122</td>\n",
       "      <td>3</td>\n",
       "      <td>2</td>\n",
       "      <td>2</td>\n",
       "      <td>270000.00</td>\n",
       "      <td>0.27</td>\n",
       "      <td>2213.11</td>\n",
       "      <td>...</td>\n",
       "      <td>2.97</td>\n",
       "      <td>1.75</td>\n",
       "      <td>1244.10</td>\n",
       "      <td>1353001.23</td>\n",
       "      <td>1364.89</td>\n",
       "      <td>1319336.96</td>\n",
       "      <td>895.93</td>\n",
       "      <td>988708.13</td>\n",
       "      <td>1226.86</td>\n",
       "      <td>947807.31</td>\n",
       "    </tr>\n",
       "  </tbody>\n",
       "</table>\n",
       "<p>5308 rows × 25 columns</p>\n",
       "</div>"
      ],
      "text/plain": [
       "                                 Rua              Bairro     Cidade  Metragem  \\\n",
       "0              Avenida Itacira, 255    Planalto Paulista  São Paulo      1000   \n",
       "1     Rua Aurelia Perez Alvarez, 42   Jardim dos Estados  São Paulo       496   \n",
       "2                    Rua Alba Valdez     Jardim Reimberg  São Paulo       125   \n",
       "3           Rua Tobias Barreto, 195                Mooca  São Paulo       100   \n",
       "4                    Rua Graham Bell         Santo Amaro  São Paulo       440   \n",
       "...                              ...                 ...        ...       ...   \n",
       "5599              Rua Pedro Teixeira        Vila Olímpia  São Paulo       157   \n",
       "5600                   Avenida Odila   Planalto Paulista  São Paulo       267   \n",
       "5601                      Rua Tapuçu          Vila Sofia  São Paulo        95   \n",
       "5603               Rua Estero Belaco       Vila da Saúde  São Paulo       205   \n",
       "5604      Rua Barão de Tramandaí, 0          Vila Alpina  São Paulo       122   \n",
       "\n",
       "      Quartos  Banheiros  Vagas  Valor_anuncio  Valor_mm  Valor_m2  ...  V003  \\\n",
       "0           4          8      6     7000000.00      7.00   7000.00  ...  2.66   \n",
       "1           4          4      4     3700000.00      3.70   7459.68  ...  3.13   \n",
       "2           4          3      2      380000.00      0.38   3040.00  ...  3.47   \n",
       "3           3          2      2      540000.00      0.54   5400.00  ...  3.00   \n",
       "4           4          4      6     1980000.00      1.98   4500.00  ...  3.51   \n",
       "...       ...        ...    ...            ...       ...       ...  ...   ...   \n",
       "5599        3          2      2      960000.00      0.96   6114.65  ...  2.17   \n",
       "5600        3          6      4     1500000.00      1.50   5617.98  ...  2.81   \n",
       "5601        2          2      2      665000.00      0.67   7000.00  ...  2.99   \n",
       "5603        3          3      6     1050000.00      1.05   5121.95  ...  2.75   \n",
       "5604        3          2      2      270000.00      0.27   2213.11  ...  2.97   \n",
       "\n",
       "      V004    V005        V006    V007        V008    V009        V010  \\\n",
       "0     2.04 3158.96 22210644.93 5570.65 25770816.97 2096.19 13029851.56   \n",
       "1     1.96 7600.44 36778930.17 7890.53 35886906.64 4149.00 26760682.90   \n",
       "2     3.06  805.13   769188.78 1011.75   757433.42  518.77   426672.78   \n",
       "3     1.99 2338.05  7826370.15 2447.89  7925839.76 1543.29  4646566.16   \n",
       "4     2.31 1026.36   272168.67 1143.96   167733.64  735.67   367088.08   \n",
       "...    ...     ...         ...     ...         ...     ...         ...   \n",
       "5599  1.27 5054.58 33245189.73 5231.93 33485189.78 3649.06 26562232.53   \n",
       "5600  1.60 4249.33 24499871.44 5180.14 25047413.33 2618.76 17705032.31   \n",
       "5601  1.81 2425.09  6878872.25 2543.80  6913867.79 1561.58  4261814.01   \n",
       "5603  1.50 5650.20 20344622.14 5750.84 20127679.27 3459.68 16021825.60   \n",
       "5604  1.75 1244.10  1353001.23 1364.89  1319336.96  895.93   988708.13   \n",
       "\n",
       "        V011        V012  \n",
       "0    3930.35 17241576.74  \n",
       "1    6063.92 27502674.90  \n",
       "2     858.51   414378.88  \n",
       "3    1909.04  5050712.69  \n",
       "4    1086.94   159622.46  \n",
       "...      ...         ...  \n",
       "5599 4551.66 29032823.35  \n",
       "5600 3977.93 21495997.85  \n",
       "5601 2062.09  4596759.57  \n",
       "5603 4362.79 16264378.33  \n",
       "5604 1226.86   947807.31  \n",
       "\n",
       "[5308 rows x 25 columns]"
      ]
     },
     "execution_count": 26,
     "metadata": {},
     "output_type": "execute_result"
    }
   ],
   "source": [
    "import pandas as pd\n",
    "import seaborn as sns\n",
    "import matplotlib.pyplot as plt\n",
    "import numpy as np\n",
    "\n",
    "pd.set_option(\"display.precision\", 2)\n",
    "pd.set_option('display.float_format', lambda x: '%.2f' % x)\n",
    "sns.set()\n",
    "\n",
    "dados_vendas_censo = pd.read_csv('https://raw.githubusercontent.com/pedrogrigorio/Data-Immersion-Alura/main/Materiais/dados_vendas_censo.csv')\n",
    "dados_vendas_censo = dados_vendas_censo[['Rua', 'Bairro', 'Cidade', 'Metragem', 'Quartos', 'Banheiros', 'Vagas', 'Valor_anuncio', 'Valor_mm', 'Valor_m2', 'latitude', 'longitude', 'Situacao_setor', 'V001','V002', 'V003', 'V004', 'V005', 'V006', 'V007', 'V008', 'V009', 'V010', 'V011', 'V012']].dropna()\n",
    "dados_vendas_censo"
   ]
  },
  {
   "cell_type": "markdown",
   "metadata": {},
   "source": [
    "## Visualizando e tratando alguns dados"
   ]
  },
  {
   "cell_type": "markdown",
   "metadata": {},
   "source": [
    "Plotando um gráfico para o valor dos imóveis, percebemos que alguns outliers estão afetando drasticamente nossas análises."
   ]
  },
  {
   "cell_type": "code",
   "execution_count": 27,
   "metadata": {},
   "outputs": [
    {
     "data": {
      "image/png": "[encoded data removed]",
      "text/plain": [
       "<Figure size 720x576 with 1 Axes>"
      ]
     },
     "metadata": {},
     "output_type": "display_data"
    }
   ],
   "source": [
    "plt.figure(figsize=(10,8))\n",
    "ax = sns.boxplot(data = dados_vendas_censo, y=\"Valor_anuncio\")\n",
    "plt.show()"
   ]
  },
  {
   "cell_type": "markdown",
   "metadata": {},
   "source": [
    "Filtrando nosso dataframe para remover os outliers."
   ]
  },
  {
   "cell_type": "code",
   "execution_count": 28,
   "metadata": {},
   "outputs": [
    {
     "data": {
      "text/html": [
       "<div>\n",
       "<style scoped>\n",
       "    .dataframe tbody tr th:only-of-type {\n",
       "        vertical-align: middle;\n",
       "    }\n",
       "\n",
       "    .dataframe tbody tr th {\n",
       "        vertical-align: top;\n",
       "    }\n",
       "\n",
       "    .dataframe thead th {\n",
       "        text-align: right;\n",
       "    }\n",
       "</style>\n",
       "<table border=\"1\" class=\"dataframe\">\n",
       "  <thead>\n",
       "    <tr style=\"text-align: right;\">\n",
       "      <th></th>\n",
       "      <th>Rua</th>\n",
       "      <th>Bairro</th>\n",
       "      <th>Cidade</th>\n",
       "      <th>Metragem</th>\n",
       "      <th>Quartos</th>\n",
       "      <th>Banheiros</th>\n",
       "      <th>Vagas</th>\n",
       "      <th>Valor_anuncio</th>\n",
       "      <th>Valor_mm</th>\n",
       "      <th>Valor_m2</th>\n",
       "      <th>...</th>\n",
       "      <th>V003</th>\n",
       "      <th>V004</th>\n",
       "      <th>V005</th>\n",
       "      <th>V006</th>\n",
       "      <th>V007</th>\n",
       "      <th>V008</th>\n",
       "      <th>V009</th>\n",
       "      <th>V010</th>\n",
       "      <th>V011</th>\n",
       "      <th>V012</th>\n",
       "    </tr>\n",
       "  </thead>\n",
       "  <tbody>\n",
       "    <tr>\n",
       "      <th>54</th>\n",
       "      <td>Rua Inglaterra</td>\n",
       "      <td>Jardim Europa</td>\n",
       "      <td>São Paulo</td>\n",
       "      <td>200</td>\n",
       "      <td>3</td>\n",
       "      <td>3</td>\n",
       "      <td>2</td>\n",
       "      <td>13000.00</td>\n",
       "      <td>0.01</td>\n",
       "      <td>65.00</td>\n",
       "      <td>...</td>\n",
       "      <td>3.13</td>\n",
       "      <td>2.87</td>\n",
       "      <td>21545.71</td>\n",
       "      <td>1577883376.43</td>\n",
       "      <td>26081.65</td>\n",
       "      <td>1794039881.36</td>\n",
       "      <td>11050.67</td>\n",
       "      <td>882338714.47</td>\n",
       "      <td>15470.93</td>\n",
       "      <td>1168079134.43</td>\n",
       "    </tr>\n",
       "    <tr>\n",
       "      <th>89</th>\n",
       "      <td>Rua Inglaterra</td>\n",
       "      <td>Jardim Europa</td>\n",
       "      <td>São Paulo</td>\n",
       "      <td>756</td>\n",
       "      <td>5</td>\n",
       "      <td>4</td>\n",
       "      <td>10</td>\n",
       "      <td>37000000.00</td>\n",
       "      <td>37.00</td>\n",
       "      <td>48941.80</td>\n",
       "      <td>...</td>\n",
       "      <td>3.13</td>\n",
       "      <td>2.87</td>\n",
       "      <td>21545.71</td>\n",
       "      <td>1577883376.43</td>\n",
       "      <td>26081.65</td>\n",
       "      <td>1794039881.36</td>\n",
       "      <td>11050.67</td>\n",
       "      <td>882338714.47</td>\n",
       "      <td>15470.93</td>\n",
       "      <td>1168079134.43</td>\n",
       "    </tr>\n",
       "    <tr>\n",
       "      <th>1032</th>\n",
       "      <td>Praça Nicolau Scarpa</td>\n",
       "      <td>Jardim América</td>\n",
       "      <td>São Paulo</td>\n",
       "      <td>1200</td>\n",
       "      <td>4</td>\n",
       "      <td>4</td>\n",
       "      <td>25</td>\n",
       "      <td>65000000.00</td>\n",
       "      <td>65.00</td>\n",
       "      <td>54166.67</td>\n",
       "      <td>...</td>\n",
       "      <td>3.57</td>\n",
       "      <td>3.01</td>\n",
       "      <td>13131.61</td>\n",
       "      <td>508165993.72</td>\n",
       "      <td>14507.30</td>\n",
       "      <td>541764826.89</td>\n",
       "      <td>7934.91</td>\n",
       "      <td>364776324.15</td>\n",
       "      <td>10168.24</td>\n",
       "      <td>445001716.57</td>\n",
       "    </tr>\n",
       "    <tr>\n",
       "      <th>3521</th>\n",
       "      <td>Rua Estados Unidos</td>\n",
       "      <td>Jardim América</td>\n",
       "      <td>São Paulo</td>\n",
       "      <td>1816</td>\n",
       "      <td>4</td>\n",
       "      <td>10</td>\n",
       "      <td>20</td>\n",
       "      <td>55000000.00</td>\n",
       "      <td>55.00</td>\n",
       "      <td>30286.34</td>\n",
       "      <td>...</td>\n",
       "      <td>3.57</td>\n",
       "      <td>3.01</td>\n",
       "      <td>13131.61</td>\n",
       "      <td>508165993.72</td>\n",
       "      <td>14507.30</td>\n",
       "      <td>541764826.89</td>\n",
       "      <td>7934.91</td>\n",
       "      <td>364776324.15</td>\n",
       "      <td>10168.24</td>\n",
       "      <td>445001716.57</td>\n",
       "    </tr>\n",
       "    <tr>\n",
       "      <th>3896</th>\n",
       "      <td>Rua Estados Unidos</td>\n",
       "      <td>Jardim América</td>\n",
       "      <td>São Paulo</td>\n",
       "      <td>1200</td>\n",
       "      <td>4</td>\n",
       "      <td>6</td>\n",
       "      <td>24</td>\n",
       "      <td>65000000.00</td>\n",
       "      <td>65.00</td>\n",
       "      <td>54166.67</td>\n",
       "      <td>...</td>\n",
       "      <td>3.57</td>\n",
       "      <td>3.01</td>\n",
       "      <td>13131.61</td>\n",
       "      <td>508165993.72</td>\n",
       "      <td>14507.30</td>\n",
       "      <td>541764826.89</td>\n",
       "      <td>7934.91</td>\n",
       "      <td>364776324.15</td>\n",
       "      <td>10168.24</td>\n",
       "      <td>445001716.57</td>\n",
       "    </tr>\n",
       "  </tbody>\n",
       "</table>\n",
       "<p>5 rows × 25 columns</p>\n",
       "</div>"
      ],
      "text/plain": [
       "                       Rua          Bairro     Cidade  Metragem  Quartos  \\\n",
       "54          Rua Inglaterra   Jardim Europa  São Paulo       200        3   \n",
       "89          Rua Inglaterra   Jardim Europa  São Paulo       756        5   \n",
       "1032  Praça Nicolau Scarpa  Jardim América  São Paulo      1200        4   \n",
       "3521    Rua Estados Unidos  Jardim América  São Paulo      1816        4   \n",
       "3896    Rua Estados Unidos  Jardim América  São Paulo      1200        4   \n",
       "\n",
       "      Banheiros  Vagas  Valor_anuncio  Valor_mm  Valor_m2  ...  V003  V004  \\\n",
       "54            3      2       13000.00      0.01     65.00  ...  3.13  2.87   \n",
       "89            4     10    37000000.00     37.00  48941.80  ...  3.13  2.87   \n",
       "1032          4     25    65000000.00     65.00  54166.67  ...  3.57  3.01   \n",
       "3521         10     20    55000000.00     55.00  30286.34  ...  3.57  3.01   \n",
       "3896          6     24    65000000.00     65.00  54166.67  ...  3.57  3.01   \n",
       "\n",
       "         V005          V006     V007          V008     V009         V010  \\\n",
       "54   21545.71 1577883376.43 26081.65 1794039881.36 11050.67 882338714.47   \n",
       "89   21545.71 1577883376.43 26081.65 1794039881.36 11050.67 882338714.47   \n",
       "1032 13131.61  508165993.72 14507.30  541764826.89  7934.91 364776324.15   \n",
       "3521 13131.61  508165993.72 14507.30  541764826.89  7934.91 364776324.15   \n",
       "3896 13131.61  508165993.72 14507.30  541764826.89  7934.91 364776324.15   \n",
       "\n",
       "         V011          V012  \n",
       "54   15470.93 1168079134.43  \n",
       "89   15470.93 1168079134.43  \n",
       "1032 10168.24  445001716.57  \n",
       "3521 10168.24  445001716.57  \n",
       "3896 10168.24  445001716.57  \n",
       "\n",
       "[5 rows x 25 columns]"
      ]
     },
     "execution_count": 28,
     "metadata": {},
     "output_type": "execute_result"
    }
   ],
   "source": [
    "dados_vendas_censo.query(\"Valor_anuncio > 30000000 | Valor_anuncio < 100000\")"
   ]
  },
  {
   "cell_type": "markdown",
   "metadata": {},
   "source": [
    "Plotando o gráfico após o filtro, percebemos que a visualização melhorou significativamente."
   ]
  },
  {
   "cell_type": "code",
   "execution_count": 29,
   "metadata": {},
   "outputs": [
    {
     "data": {
      "image/png": "[encoded data removed]",
      "text/plain": [
       "<Figure size 720x576 with 1 Axes>"
      ]
     },
     "metadata": {},
     "output_type": "display_data"
    }
   ],
   "source": [
    "dados_vendas_censo.drop(dados_vendas_censo.query(\"Valor_anuncio > 30000000 | Valor_anuncio < 100000\").index, inplace = True)\n",
    "plt.figure(figsize=(10,8))\n",
    "ax = sns.boxplot(data = dados_vendas_censo, y = \"Valor_anuncio\")\n",
    "plt.show()"
   ]
  },
  {
   "cell_type": "code",
   "execution_count": 30,
   "metadata": {},
   "outputs": [
    {
     "data": {
      "text/plain": [
       "<AxesSubplot:xlabel='Valor_anuncio', ylabel='Valor_m2'>"
      ]
     },
     "execution_count": 30,
     "metadata": {},
     "output_type": "execute_result"
    },
    {
     "data": {
      "image/png": "[encoded data removed]",
      "text/plain": [
       "<Figure size 720x720 with 1 Axes>"
      ]
     },
     "metadata": {},
     "output_type": "display_data"
    }
   ],
   "source": [
    "plt.figure(figsize=(10,10))\n",
    "sns.scatterplot(data = dados_vendas_censo, x=\"Valor_anuncio\", y=\"Valor_m2\")"
   ]
  },
  {
   "cell_type": "markdown",
   "metadata": {},
   "source": [
    "## Correlação dos dados"
   ]
  },
  {
   "cell_type": "code",
   "execution_count": 31,
   "metadata": {},
   "outputs": [
    {
     "data": {
      "text/html": [
       "<div>\n",
       "<style scoped>\n",
       "    .dataframe tbody tr th:only-of-type {\n",
       "        vertical-align: middle;\n",
       "    }\n",
       "\n",
       "    .dataframe tbody tr th {\n",
       "        vertical-align: top;\n",
       "    }\n",
       "\n",
       "    .dataframe thead th {\n",
       "        text-align: right;\n",
       "    }\n",
       "</style>\n",
       "<table border=\"1\" class=\"dataframe\">\n",
       "  <thead>\n",
       "    <tr style=\"text-align: right;\">\n",
       "      <th></th>\n",
       "      <th>Metragem</th>\n",
       "      <th>Quartos</th>\n",
       "      <th>Banheiros</th>\n",
       "      <th>Vagas</th>\n",
       "      <th>Valor_anuncio</th>\n",
       "      <th>Valor_mm</th>\n",
       "      <th>Valor_m2</th>\n",
       "      <th>latitude</th>\n",
       "      <th>longitude</th>\n",
       "      <th>Situacao_setor</th>\n",
       "      <th>...</th>\n",
       "      <th>V003</th>\n",
       "      <th>V004</th>\n",
       "      <th>V005</th>\n",
       "      <th>V006</th>\n",
       "      <th>V007</th>\n",
       "      <th>V008</th>\n",
       "      <th>V009</th>\n",
       "      <th>V010</th>\n",
       "      <th>V011</th>\n",
       "      <th>V012</th>\n",
       "    </tr>\n",
       "  </thead>\n",
       "  <tbody>\n",
       "    <tr>\n",
       "      <th>Metragem</th>\n",
       "      <td>1.00</td>\n",
       "      <td>0.23</td>\n",
       "      <td>0.23</td>\n",
       "      <td>0.27</td>\n",
       "      <td>0.30</td>\n",
       "      <td>0.30</td>\n",
       "      <td>0.06</td>\n",
       "      <td>-0.09</td>\n",
       "      <td>-0.13</td>\n",
       "      <td>0.48</td>\n",
       "      <td>...</td>\n",
       "      <td>0.13</td>\n",
       "      <td>0.05</td>\n",
       "      <td>0.22</td>\n",
       "      <td>0.07</td>\n",
       "      <td>0.23</td>\n",
       "      <td>0.05</td>\n",
       "      <td>0.20</td>\n",
       "      <td>0.07</td>\n",
       "      <td>0.21</td>\n",
       "      <td>0.05</td>\n",
       "    </tr>\n",
       "    <tr>\n",
       "      <th>Quartos</th>\n",
       "      <td>0.23</td>\n",
       "      <td>1.00</td>\n",
       "      <td>0.55</td>\n",
       "      <td>0.42</td>\n",
       "      <td>0.37</td>\n",
       "      <td>0.37</td>\n",
       "      <td>0.12</td>\n",
       "      <td>-0.01</td>\n",
       "      <td>-0.19</td>\n",
       "      <td>-0.01</td>\n",
       "      <td>...</td>\n",
       "      <td>0.16</td>\n",
       "      <td>0.07</td>\n",
       "      <td>0.32</td>\n",
       "      <td>0.12</td>\n",
       "      <td>0.33</td>\n",
       "      <td>0.11</td>\n",
       "      <td>0.31</td>\n",
       "      <td>0.13</td>\n",
       "      <td>0.32</td>\n",
       "      <td>0.11</td>\n",
       "    </tr>\n",
       "    <tr>\n",
       "      <th>Banheiros</th>\n",
       "      <td>0.23</td>\n",
       "      <td>0.55</td>\n",
       "      <td>1.00</td>\n",
       "      <td>0.46</td>\n",
       "      <td>0.47</td>\n",
       "      <td>0.47</td>\n",
       "      <td>0.22</td>\n",
       "      <td>-0.03</td>\n",
       "      <td>-0.25</td>\n",
       "      <td>-0.03</td>\n",
       "      <td>...</td>\n",
       "      <td>0.21</td>\n",
       "      <td>0.07</td>\n",
       "      <td>0.41</td>\n",
       "      <td>0.11</td>\n",
       "      <td>0.41</td>\n",
       "      <td>0.08</td>\n",
       "      <td>0.39</td>\n",
       "      <td>0.11</td>\n",
       "      <td>0.40</td>\n",
       "      <td>0.08</td>\n",
       "    </tr>\n",
       "    <tr>\n",
       "      <th>Vagas</th>\n",
       "      <td>0.27</td>\n",
       "      <td>0.42</td>\n",
       "      <td>0.46</td>\n",
       "      <td>1.00</td>\n",
       "      <td>0.48</td>\n",
       "      <td>0.48</td>\n",
       "      <td>0.15</td>\n",
       "      <td>-0.04</td>\n",
       "      <td>-0.19</td>\n",
       "      <td>-0.01</td>\n",
       "      <td>...</td>\n",
       "      <td>0.24</td>\n",
       "      <td>0.09</td>\n",
       "      <td>0.34</td>\n",
       "      <td>0.11</td>\n",
       "      <td>0.34</td>\n",
       "      <td>0.08</td>\n",
       "      <td>0.32</td>\n",
       "      <td>0.12</td>\n",
       "      <td>0.33</td>\n",
       "      <td>0.09</td>\n",
       "    </tr>\n",
       "    <tr>\n",
       "      <th>Valor_anuncio</th>\n",
       "      <td>0.30</td>\n",
       "      <td>0.37</td>\n",
       "      <td>0.47</td>\n",
       "      <td>0.48</td>\n",
       "      <td>1.00</td>\n",
       "      <td>1.00</td>\n",
       "      <td>0.70</td>\n",
       "      <td>0.02</td>\n",
       "      <td>-0.21</td>\n",
       "      <td>-0.00</td>\n",
       "      <td>...</td>\n",
       "      <td>0.13</td>\n",
       "      <td>0.08</td>\n",
       "      <td>0.45</td>\n",
       "      <td>0.11</td>\n",
       "      <td>0.45</td>\n",
       "      <td>0.07</td>\n",
       "      <td>0.47</td>\n",
       "      <td>0.13</td>\n",
       "      <td>0.45</td>\n",
       "      <td>0.08</td>\n",
       "    </tr>\n",
       "    <tr>\n",
       "      <th>Valor_mm</th>\n",
       "      <td>0.30</td>\n",
       "      <td>0.37</td>\n",
       "      <td>0.47</td>\n",
       "      <td>0.48</td>\n",
       "      <td>1.00</td>\n",
       "      <td>1.00</td>\n",
       "      <td>0.70</td>\n",
       "      <td>0.02</td>\n",
       "      <td>-0.21</td>\n",
       "      <td>-0.00</td>\n",
       "      <td>...</td>\n",
       "      <td>0.13</td>\n",
       "      <td>0.08</td>\n",
       "      <td>0.45</td>\n",
       "      <td>0.11</td>\n",
       "      <td>0.45</td>\n",
       "      <td>0.07</td>\n",
       "      <td>0.47</td>\n",
       "      <td>0.13</td>\n",
       "      <td>0.45</td>\n",
       "      <td>0.08</td>\n",
       "    </tr>\n",
       "    <tr>\n",
       "      <th>Valor_m2</th>\n",
       "      <td>0.06</td>\n",
       "      <td>0.12</td>\n",
       "      <td>0.22</td>\n",
       "      <td>0.15</td>\n",
       "      <td>0.70</td>\n",
       "      <td>0.70</td>\n",
       "      <td>1.00</td>\n",
       "      <td>0.05</td>\n",
       "      <td>-0.18</td>\n",
       "      <td>-0.03</td>\n",
       "      <td>...</td>\n",
       "      <td>-0.13</td>\n",
       "      <td>0.01</td>\n",
       "      <td>0.29</td>\n",
       "      <td>0.04</td>\n",
       "      <td>0.28</td>\n",
       "      <td>0.02</td>\n",
       "      <td>0.37</td>\n",
       "      <td>0.05</td>\n",
       "      <td>0.32</td>\n",
       "      <td>0.02</td>\n",
       "    </tr>\n",
       "    <tr>\n",
       "      <th>latitude</th>\n",
       "      <td>-0.09</td>\n",
       "      <td>-0.01</td>\n",
       "      <td>-0.03</td>\n",
       "      <td>-0.04</td>\n",
       "      <td>0.02</td>\n",
       "      <td>0.02</td>\n",
       "      <td>0.05</td>\n",
       "      <td>1.00</td>\n",
       "      <td>0.15</td>\n",
       "      <td>-0.03</td>\n",
       "      <td>...</td>\n",
       "      <td>-0.05</td>\n",
       "      <td>0.03</td>\n",
       "      <td>-0.05</td>\n",
       "      <td>-0.09</td>\n",
       "      <td>-0.07</td>\n",
       "      <td>-0.07</td>\n",
       "      <td>-0.04</td>\n",
       "      <td>-0.07</td>\n",
       "      <td>-0.07</td>\n",
       "      <td>-0.06</td>\n",
       "    </tr>\n",
       "    <tr>\n",
       "      <th>longitude</th>\n",
       "      <td>-0.13</td>\n",
       "      <td>-0.19</td>\n",
       "      <td>-0.25</td>\n",
       "      <td>-0.19</td>\n",
       "      <td>-0.21</td>\n",
       "      <td>-0.21</td>\n",
       "      <td>-0.18</td>\n",
       "      <td>0.15</td>\n",
       "      <td>1.00</td>\n",
       "      <td>-0.01</td>\n",
       "      <td>...</td>\n",
       "      <td>-0.05</td>\n",
       "      <td>0.02</td>\n",
       "      <td>-0.36</td>\n",
       "      <td>-0.10</td>\n",
       "      <td>-0.36</td>\n",
       "      <td>-0.07</td>\n",
       "      <td>-0.38</td>\n",
       "      <td>-0.10</td>\n",
       "      <td>-0.37</td>\n",
       "      <td>-0.07</td>\n",
       "    </tr>\n",
       "    <tr>\n",
       "      <th>Situacao_setor</th>\n",
       "      <td>0.48</td>\n",
       "      <td>-0.01</td>\n",
       "      <td>-0.03</td>\n",
       "      <td>-0.01</td>\n",
       "      <td>-0.00</td>\n",
       "      <td>-0.00</td>\n",
       "      <td>-0.03</td>\n",
       "      <td>-0.03</td>\n",
       "      <td>-0.01</td>\n",
       "      <td>1.00</td>\n",
       "      <td>...</td>\n",
       "      <td>0.03</td>\n",
       "      <td>0.00</td>\n",
       "      <td>-0.03</td>\n",
       "      <td>-0.01</td>\n",
       "      <td>-0.03</td>\n",
       "      <td>-0.01</td>\n",
       "      <td>-0.04</td>\n",
       "      <td>-0.01</td>\n",
       "      <td>-0.03</td>\n",
       "      <td>-0.00</td>\n",
       "    </tr>\n",
       "    <tr>\n",
       "      <th>V001</th>\n",
       "      <td>-0.13</td>\n",
       "      <td>-0.18</td>\n",
       "      <td>-0.22</td>\n",
       "      <td>-0.21</td>\n",
       "      <td>-0.22</td>\n",
       "      <td>-0.22</td>\n",
       "      <td>-0.11</td>\n",
       "      <td>-0.00</td>\n",
       "      <td>0.31</td>\n",
       "      <td>0.02</td>\n",
       "      <td>...</td>\n",
       "      <td>-0.22</td>\n",
       "      <td>-0.12</td>\n",
       "      <td>-0.38</td>\n",
       "      <td>-0.10</td>\n",
       "      <td>-0.39</td>\n",
       "      <td>-0.10</td>\n",
       "      <td>-0.36</td>\n",
       "      <td>-0.13</td>\n",
       "      <td>-0.37</td>\n",
       "      <td>-0.11</td>\n",
       "    </tr>\n",
       "    <tr>\n",
       "      <th>V002</th>\n",
       "      <td>-0.10</td>\n",
       "      <td>-0.15</td>\n",
       "      <td>-0.17</td>\n",
       "      <td>-0.15</td>\n",
       "      <td>-0.19</td>\n",
       "      <td>-0.19</td>\n",
       "      <td>-0.15</td>\n",
       "      <td>-0.02</td>\n",
       "      <td>0.30</td>\n",
       "      <td>0.03</td>\n",
       "      <td>...</td>\n",
       "      <td>0.07</td>\n",
       "      <td>0.00</td>\n",
       "      <td>-0.33</td>\n",
       "      <td>-0.09</td>\n",
       "      <td>-0.34</td>\n",
       "      <td>-0.09</td>\n",
       "      <td>-0.35</td>\n",
       "      <td>-0.12</td>\n",
       "      <td>-0.35</td>\n",
       "      <td>-0.10</td>\n",
       "    </tr>\n",
       "    <tr>\n",
       "      <th>V003</th>\n",
       "      <td>0.13</td>\n",
       "      <td>0.16</td>\n",
       "      <td>0.21</td>\n",
       "      <td>0.24</td>\n",
       "      <td>0.13</td>\n",
       "      <td>0.13</td>\n",
       "      <td>-0.13</td>\n",
       "      <td>-0.05</td>\n",
       "      <td>-0.05</td>\n",
       "      <td>0.03</td>\n",
       "      <td>...</td>\n",
       "      <td>1.00</td>\n",
       "      <td>0.41</td>\n",
       "      <td>0.28</td>\n",
       "      <td>0.08</td>\n",
       "      <td>0.28</td>\n",
       "      <td>0.06</td>\n",
       "      <td>0.13</td>\n",
       "      <td>0.10</td>\n",
       "      <td>0.19</td>\n",
       "      <td>0.07</td>\n",
       "    </tr>\n",
       "    <tr>\n",
       "      <th>V004</th>\n",
       "      <td>0.05</td>\n",
       "      <td>0.07</td>\n",
       "      <td>0.07</td>\n",
       "      <td>0.09</td>\n",
       "      <td>0.08</td>\n",
       "      <td>0.08</td>\n",
       "      <td>0.01</td>\n",
       "      <td>0.03</td>\n",
       "      <td>0.02</td>\n",
       "      <td>0.00</td>\n",
       "      <td>...</td>\n",
       "      <td>0.41</td>\n",
       "      <td>1.00</td>\n",
       "      <td>0.07</td>\n",
       "      <td>0.02</td>\n",
       "      <td>0.06</td>\n",
       "      <td>0.01</td>\n",
       "      <td>-0.01</td>\n",
       "      <td>0.02</td>\n",
       "      <td>0.01</td>\n",
       "      <td>0.01</td>\n",
       "    </tr>\n",
       "    <tr>\n",
       "      <th>V005</th>\n",
       "      <td>0.22</td>\n",
       "      <td>0.32</td>\n",
       "      <td>0.41</td>\n",
       "      <td>0.34</td>\n",
       "      <td>0.45</td>\n",
       "      <td>0.45</td>\n",
       "      <td>0.29</td>\n",
       "      <td>-0.05</td>\n",
       "      <td>-0.36</td>\n",
       "      <td>-0.03</td>\n",
       "      <td>...</td>\n",
       "      <td>0.28</td>\n",
       "      <td>0.07</td>\n",
       "      <td>1.00</td>\n",
       "      <td>0.42</td>\n",
       "      <td>0.95</td>\n",
       "      <td>0.31</td>\n",
       "      <td>0.95</td>\n",
       "      <td>0.39</td>\n",
       "      <td>0.90</td>\n",
       "      <td>0.27</td>\n",
       "    </tr>\n",
       "    <tr>\n",
       "      <th>V006</th>\n",
       "      <td>0.07</td>\n",
       "      <td>0.12</td>\n",
       "      <td>0.11</td>\n",
       "      <td>0.11</td>\n",
       "      <td>0.11</td>\n",
       "      <td>0.11</td>\n",
       "      <td>0.04</td>\n",
       "      <td>-0.09</td>\n",
       "      <td>-0.10</td>\n",
       "      <td>-0.01</td>\n",
       "      <td>...</td>\n",
       "      <td>0.08</td>\n",
       "      <td>0.02</td>\n",
       "      <td>0.42</td>\n",
       "      <td>1.00</td>\n",
       "      <td>0.56</td>\n",
       "      <td>0.93</td>\n",
       "      <td>0.42</td>\n",
       "      <td>0.89</td>\n",
       "      <td>0.58</td>\n",
       "      <td>0.83</td>\n",
       "    </tr>\n",
       "    <tr>\n",
       "      <th>V007</th>\n",
       "      <td>0.23</td>\n",
       "      <td>0.33</td>\n",
       "      <td>0.41</td>\n",
       "      <td>0.34</td>\n",
       "      <td>0.45</td>\n",
       "      <td>0.45</td>\n",
       "      <td>0.28</td>\n",
       "      <td>-0.07</td>\n",
       "      <td>-0.36</td>\n",
       "      <td>-0.03</td>\n",
       "      <td>...</td>\n",
       "      <td>0.28</td>\n",
       "      <td>0.06</td>\n",
       "      <td>0.95</td>\n",
       "      <td>0.56</td>\n",
       "      <td>1.00</td>\n",
       "      <td>0.50</td>\n",
       "      <td>0.92</td>\n",
       "      <td>0.56</td>\n",
       "      <td>0.96</td>\n",
       "      <td>0.48</td>\n",
       "    </tr>\n",
       "    <tr>\n",
       "      <th>V008</th>\n",
       "      <td>0.05</td>\n",
       "      <td>0.11</td>\n",
       "      <td>0.08</td>\n",
       "      <td>0.08</td>\n",
       "      <td>0.07</td>\n",
       "      <td>0.07</td>\n",
       "      <td>0.02</td>\n",
       "      <td>-0.07</td>\n",
       "      <td>-0.07</td>\n",
       "      <td>-0.01</td>\n",
       "      <td>...</td>\n",
       "      <td>0.06</td>\n",
       "      <td>0.01</td>\n",
       "      <td>0.31</td>\n",
       "      <td>0.93</td>\n",
       "      <td>0.50</td>\n",
       "      <td>1.00</td>\n",
       "      <td>0.33</td>\n",
       "      <td>0.91</td>\n",
       "      <td>0.56</td>\n",
       "      <td>0.95</td>\n",
       "    </tr>\n",
       "    <tr>\n",
       "      <th>V009</th>\n",
       "      <td>0.20</td>\n",
       "      <td>0.31</td>\n",
       "      <td>0.39</td>\n",
       "      <td>0.32</td>\n",
       "      <td>0.47</td>\n",
       "      <td>0.47</td>\n",
       "      <td>0.37</td>\n",
       "      <td>-0.04</td>\n",
       "      <td>-0.38</td>\n",
       "      <td>-0.04</td>\n",
       "      <td>...</td>\n",
       "      <td>0.13</td>\n",
       "      <td>-0.01</td>\n",
       "      <td>0.95</td>\n",
       "      <td>0.42</td>\n",
       "      <td>0.92</td>\n",
       "      <td>0.33</td>\n",
       "      <td>1.00</td>\n",
       "      <td>0.45</td>\n",
       "      <td>0.94</td>\n",
       "      <td>0.34</td>\n",
       "    </tr>\n",
       "    <tr>\n",
       "      <th>V010</th>\n",
       "      <td>0.07</td>\n",
       "      <td>0.13</td>\n",
       "      <td>0.11</td>\n",
       "      <td>0.12</td>\n",
       "      <td>0.13</td>\n",
       "      <td>0.13</td>\n",
       "      <td>0.05</td>\n",
       "      <td>-0.07</td>\n",
       "      <td>-0.10</td>\n",
       "      <td>-0.01</td>\n",
       "      <td>...</td>\n",
       "      <td>0.10</td>\n",
       "      <td>0.02</td>\n",
       "      <td>0.39</td>\n",
       "      <td>0.89</td>\n",
       "      <td>0.56</td>\n",
       "      <td>0.91</td>\n",
       "      <td>0.45</td>\n",
       "      <td>1.00</td>\n",
       "      <td>0.64</td>\n",
       "      <td>0.95</td>\n",
       "    </tr>\n",
       "    <tr>\n",
       "      <th>V011</th>\n",
       "      <td>0.21</td>\n",
       "      <td>0.32</td>\n",
       "      <td>0.40</td>\n",
       "      <td>0.33</td>\n",
       "      <td>0.45</td>\n",
       "      <td>0.45</td>\n",
       "      <td>0.32</td>\n",
       "      <td>-0.07</td>\n",
       "      <td>-0.37</td>\n",
       "      <td>-0.03</td>\n",
       "      <td>...</td>\n",
       "      <td>0.19</td>\n",
       "      <td>0.01</td>\n",
       "      <td>0.90</td>\n",
       "      <td>0.58</td>\n",
       "      <td>0.96</td>\n",
       "      <td>0.56</td>\n",
       "      <td>0.94</td>\n",
       "      <td>0.64</td>\n",
       "      <td>1.00</td>\n",
       "      <td>0.57</td>\n",
       "    </tr>\n",
       "    <tr>\n",
       "      <th>V012</th>\n",
       "      <td>0.05</td>\n",
       "      <td>0.11</td>\n",
       "      <td>0.08</td>\n",
       "      <td>0.09</td>\n",
       "      <td>0.08</td>\n",
       "      <td>0.08</td>\n",
       "      <td>0.02</td>\n",
       "      <td>-0.06</td>\n",
       "      <td>-0.07</td>\n",
       "      <td>-0.00</td>\n",
       "      <td>...</td>\n",
       "      <td>0.07</td>\n",
       "      <td>0.01</td>\n",
       "      <td>0.27</td>\n",
       "      <td>0.83</td>\n",
       "      <td>0.48</td>\n",
       "      <td>0.95</td>\n",
       "      <td>0.34</td>\n",
       "      <td>0.95</td>\n",
       "      <td>0.57</td>\n",
       "      <td>1.00</td>\n",
       "    </tr>\n",
       "  </tbody>\n",
       "</table>\n",
       "<p>22 rows × 22 columns</p>\n",
       "</div>"
      ],
      "text/plain": [
       "                Metragem  Quartos  Banheiros  Vagas  Valor_anuncio  Valor_mm  \\\n",
       "Metragem            1.00     0.23       0.23   0.27           0.30      0.30   \n",
       "Quartos             0.23     1.00       0.55   0.42           0.37      0.37   \n",
       "Banheiros           0.23     0.55       1.00   0.46           0.47      0.47   \n",
       "Vagas               0.27     0.42       0.46   1.00           0.48      0.48   \n",
       "Valor_anuncio       0.30     0.37       0.47   0.48           1.00      1.00   \n",
       "Valor_mm            0.30     0.37       0.47   0.48           1.00      1.00   \n",
       "Valor_m2            0.06     0.12       0.22   0.15           0.70      0.70   \n",
       "latitude           -0.09    -0.01      -0.03  -0.04           0.02      0.02   \n",
       "longitude          -0.13    -0.19      -0.25  -0.19          -0.21     -0.21   \n",
       "Situacao_setor      0.48    -0.01      -0.03  -0.01          -0.00     -0.00   \n",
       "V001               -0.13    -0.18      -0.22  -0.21          -0.22     -0.22   \n",
       "V002               -0.10    -0.15      -0.17  -0.15          -0.19     -0.19   \n",
       "V003                0.13     0.16       0.21   0.24           0.13      0.13   \n",
       "V004                0.05     0.07       0.07   0.09           0.08      0.08   \n",
       "V005                0.22     0.32       0.41   0.34           0.45      0.45   \n",
       "V006                0.07     0.12       0.11   0.11           0.11      0.11   \n",
       "V007                0.23     0.33       0.41   0.34           0.45      0.45   \n",
       "V008                0.05     0.11       0.08   0.08           0.07      0.07   \n",
       "V009                0.20     0.31       0.39   0.32           0.47      0.47   \n",
       "V010                0.07     0.13       0.11   0.12           0.13      0.13   \n",
       "V011                0.21     0.32       0.40   0.33           0.45      0.45   \n",
       "V012                0.05     0.11       0.08   0.09           0.08      0.08   \n",
       "\n",
       "                Valor_m2  latitude  longitude  Situacao_setor  ...  V003  \\\n",
       "Metragem            0.06     -0.09      -0.13            0.48  ...  0.13   \n",
       "Quartos             0.12     -0.01      -0.19           -0.01  ...  0.16   \n",
       "Banheiros           0.22     -0.03      -0.25           -0.03  ...  0.21   \n",
       "Vagas               0.15     -0.04      -0.19           -0.01  ...  0.24   \n",
       "Valor_anuncio       0.70      0.02      -0.21           -0.00  ...  0.13   \n",
       "Valor_mm            0.70      0.02      -0.21           -0.00  ...  0.13   \n",
       "Valor_m2            1.00      0.05      -0.18           -0.03  ... -0.13   \n",
       "latitude            0.05      1.00       0.15           -0.03  ... -0.05   \n",
       "longitude          -0.18      0.15       1.00           -0.01  ... -0.05   \n",
       "Situacao_setor     -0.03     -0.03      -0.01            1.00  ...  0.03   \n",
       "V001               -0.11     -0.00       0.31            0.02  ... -0.22   \n",
       "V002               -0.15     -0.02       0.30            0.03  ...  0.07   \n",
       "V003               -0.13     -0.05      -0.05            0.03  ...  1.00   \n",
       "V004                0.01      0.03       0.02            0.00  ...  0.41   \n",
       "V005                0.29     -0.05      -0.36           -0.03  ...  0.28   \n",
       "V006                0.04     -0.09      -0.10           -0.01  ...  0.08   \n",
       "V007                0.28     -0.07      -0.36           -0.03  ...  0.28   \n",
       "V008                0.02     -0.07      -0.07           -0.01  ...  0.06   \n",
       "V009                0.37     -0.04      -0.38           -0.04  ...  0.13   \n",
       "V010                0.05     -0.07      -0.10           -0.01  ...  0.10   \n",
       "V011                0.32     -0.07      -0.37           -0.03  ...  0.19   \n",
       "V012                0.02     -0.06      -0.07           -0.00  ...  0.07   \n",
       "\n",
       "                V004  V005  V006  V007  V008  V009  V010  V011  V012  \n",
       "Metragem        0.05  0.22  0.07  0.23  0.05  0.20  0.07  0.21  0.05  \n",
       "Quartos         0.07  0.32  0.12  0.33  0.11  0.31  0.13  0.32  0.11  \n",
       "Banheiros       0.07  0.41  0.11  0.41  0.08  0.39  0.11  0.40  0.08  \n",
       "Vagas           0.09  0.34  0.11  0.34  0.08  0.32  0.12  0.33  0.09  \n",
       "Valor_anuncio   0.08  0.45  0.11  0.45  0.07  0.47  0.13  0.45  0.08  \n",
       "Valor_mm        0.08  0.45  0.11  0.45  0.07  0.47  0.13  0.45  0.08  \n",
       "Valor_m2        0.01  0.29  0.04  0.28  0.02  0.37  0.05  0.32  0.02  \n",
       "latitude        0.03 -0.05 -0.09 -0.07 -0.07 -0.04 -0.07 -0.07 -0.06  \n",
       "longitude       0.02 -0.36 -0.10 -0.36 -0.07 -0.38 -0.10 -0.37 -0.07  \n",
       "Situacao_setor  0.00 -0.03 -0.01 -0.03 -0.01 -0.04 -0.01 -0.03 -0.00  \n",
       "V001           -0.12 -0.38 -0.10 -0.39 -0.10 -0.36 -0.13 -0.37 -0.11  \n",
       "V002            0.00 -0.33 -0.09 -0.34 -0.09 -0.35 -0.12 -0.35 -0.10  \n",
       "V003            0.41  0.28  0.08  0.28  0.06  0.13  0.10  0.19  0.07  \n",
       "V004            1.00  0.07  0.02  0.06  0.01 -0.01  0.02  0.01  0.01  \n",
       "V005            0.07  1.00  0.42  0.95  0.31  0.95  0.39  0.90  0.27  \n",
       "V006            0.02  0.42  1.00  0.56  0.93  0.42  0.89  0.58  0.83  \n",
       "V007            0.06  0.95  0.56  1.00  0.50  0.92  0.56  0.96  0.48  \n",
       "V008            0.01  0.31  0.93  0.50  1.00  0.33  0.91  0.56  0.95  \n",
       "V009           -0.01  0.95  0.42  0.92  0.33  1.00  0.45  0.94  0.34  \n",
       "V010            0.02  0.39  0.89  0.56  0.91  0.45  1.00  0.64  0.95  \n",
       "V011            0.01  0.90  0.58  0.96  0.56  0.94  0.64  1.00  0.57  \n",
       "V012            0.01  0.27  0.83  0.48  0.95  0.34  0.95  0.57  1.00  \n",
       "\n",
       "[22 rows x 22 columns]"
      ]
     },
     "execution_count": 31,
     "metadata": {},
     "output_type": "execute_result"
    }
   ],
   "source": [
    "dados_vendas_censo.corr()"
   ]
  },
  {
   "cell_type": "code",
   "execution_count": 32,
   "metadata": {},
   "outputs": [
    {
     "data": {
      "image/png": "[encoded data removed]",
      "text/plain": [
       "<Figure size 1296x576 with 2 Axes>"
      ]
     },
     "metadata": {},
     "output_type": "display_data"
    }
   ],
   "source": [
    "plt.figure(figsize=(18,8))\n",
    "mask = np.triu(np.ones_like(dados_vendas_censo.corr(), dtype=bool))\n",
    "heatmap = sns.heatmap(dados_vendas_censo.corr(), mask=mask, vmin=-1, vmax=1, annot=True, cmap='BrBG')\n",
    "heatmap.set_title('Correlação', fontdict={'fontsize':18}, pad=16);"
   ]
  },
  {
   "cell_type": "markdown",
   "metadata": {},
   "source": [
    "## Machine Learning"
   ]
  },
  {
   "cell_type": "markdown",
   "metadata": {},
   "source": [
    "### Implementação do modelo"
   ]
  },
  {
   "cell_type": "markdown",
   "metadata": {},
   "source": [
    "X é a variável onde guardamos nosso vetor de atributos utilizados para predizer Y, que é o valor do imóvel. Nesse sentido, utilizamos o método `train_test_split()` para dividir nossos dados em dados de treino e de teste, passando como parâmetro nossas variáveis, a quantidade de dados para teste (nesse caso 25%, que é o padrão do método) e um parâmetro `random_state` que serve para setar um caso de aleatorização, afim de testar nossas alterações no mesmo conjunto aleatório de dados, para que não haja discrepâncias entre testes. "
   ]
  },
  {
   "cell_type": "code",
   "execution_count": 33,
   "metadata": {},
   "outputs": [],
   "source": [
    "from sklearn.linear_model import LinearRegression\n",
    "from sklearn.model_selection import train_test_split\n",
    "\n",
    "X = dados_vendas_censo[[\"Metragem\"]]\n",
    "Y = dados_vendas_censo[\"Valor_anuncio\"]\n",
    "\n",
    "X_train, X_test, Y_train, Y_test = train_test_split(X, Y, test_size = 0.25, random_state = 54)\n",
    "lr = LinearRegression()"
   ]
  },
  {
   "cell_type": "markdown",
   "metadata": {},
   "source": [
    "No método acima criamos 4 variáveis, X_train, que recebe a quantidade de dados para treinamento, Y_train que é são as respostas para esses dados de treinamento e X_test e Y_test, que são os dados para teste, sendo X_test os dados que serão utilizados para predizer Y_test. Nesse sentido, podemos plotar quais são esses dados."
   ]
  },
  {
   "cell_type": "code",
   "execution_count": 34,
   "metadata": {},
   "outputs": [
    {
     "data": {
      "text/html": [
       "<div>\n",
       "<style scoped>\n",
       "    .dataframe tbody tr th:only-of-type {\n",
       "        vertical-align: middle;\n",
       "    }\n",
       "\n",
       "    .dataframe tbody tr th {\n",
       "        vertical-align: top;\n",
       "    }\n",
       "\n",
       "    .dataframe thead th {\n",
       "        text-align: right;\n",
       "    }\n",
       "</style>\n",
       "<table border=\"1\" class=\"dataframe\">\n",
       "  <thead>\n",
       "    <tr style=\"text-align: right;\">\n",
       "      <th></th>\n",
       "      <th>Metragem</th>\n",
       "    </tr>\n",
       "  </thead>\n",
       "  <tbody>\n",
       "    <tr>\n",
       "      <th>3522</th>\n",
       "      <td>105</td>\n",
       "    </tr>\n",
       "    <tr>\n",
       "      <th>881</th>\n",
       "      <td>240</td>\n",
       "    </tr>\n",
       "    <tr>\n",
       "      <th>769</th>\n",
       "      <td>324</td>\n",
       "    </tr>\n",
       "    <tr>\n",
       "      <th>3364</th>\n",
       "      <td>484</td>\n",
       "    </tr>\n",
       "    <tr>\n",
       "      <th>4674</th>\n",
       "      <td>103</td>\n",
       "    </tr>\n",
       "    <tr>\n",
       "      <th>...</th>\n",
       "      <td>...</td>\n",
       "    </tr>\n",
       "    <tr>\n",
       "      <th>3558</th>\n",
       "      <td>397</td>\n",
       "    </tr>\n",
       "    <tr>\n",
       "      <th>3994</th>\n",
       "      <td>224</td>\n",
       "    </tr>\n",
       "    <tr>\n",
       "      <th>5432</th>\n",
       "      <td>238</td>\n",
       "    </tr>\n",
       "    <tr>\n",
       "      <th>4044</th>\n",
       "      <td>300</td>\n",
       "    </tr>\n",
       "    <tr>\n",
       "      <th>948</th>\n",
       "      <td>186</td>\n",
       "    </tr>\n",
       "  </tbody>\n",
       "</table>\n",
       "<p>3977 rows × 1 columns</p>\n",
       "</div>"
      ],
      "text/plain": [
       "      Metragem\n",
       "3522       105\n",
       "881        240\n",
       "769        324\n",
       "3364       484\n",
       "4674       103\n",
       "...        ...\n",
       "3558       397\n",
       "3994       224\n",
       "5432       238\n",
       "4044       300\n",
       "948        186\n",
       "\n",
       "[3977 rows x 1 columns]"
      ]
     },
     "execution_count": 34,
     "metadata": {},
     "output_type": "execute_result"
    }
   ],
   "source": [
    "X_train"
   ]
  },
  {
   "cell_type": "code",
   "execution_count": 35,
   "metadata": {},
   "outputs": [
    {
     "data": {
      "text/plain": [
       "3522    692000.00\n",
       "881    1490000.00\n",
       "769    2100000.00\n",
       "3364   6700000.00\n",
       "4674    622500.00\n",
       "          ...    \n",
       "3558   4280000.00\n",
       "3994   1500000.00\n",
       "5432   2300000.00\n",
       "4044   1600000.00\n",
       "948    3280000.00\n",
       "Name: Valor_anuncio, Length: 3977, dtype: float64"
      ]
     },
     "execution_count": 35,
     "metadata": {},
     "output_type": "execute_result"
    }
   ],
   "source": [
    "Y_train"
   ]
  },
  {
   "cell_type": "markdown",
   "metadata": {},
   "source": [
    "Agora iremos treinar nosso modelo, utilizando o método `lr.fit()`, passando como parâmetro nossas variáveis de treino."
   ]
  },
  {
   "cell_type": "code",
   "execution_count": 36,
   "metadata": {},
   "outputs": [
    {
     "data": {
      "text/plain": [
       "LinearRegression()"
      ]
     },
     "execution_count": 36,
     "metadata": {},
     "output_type": "execute_result"
    }
   ],
   "source": [
    "lr.fit(X_train, Y_train)"
   ]
  },
  {
   "cell_type": "markdown",
   "metadata": {},
   "source": [
    "Após treinar, utilizamos o método `lr.predict()`, passando nossos dados de teste, exceto, claro, nossos dados Y_test, visto que eles devem ser previstos."
   ]
  },
  {
   "cell_type": "code",
   "execution_count": 37,
   "metadata": {},
   "outputs": [
    {
     "data": {
      "text/plain": [
       "array([4535135.54576314, 2319529.74583429, 2424501.59358835, ...,\n",
       "       2802400.24550293, 2483285.82833061, 2854186.3570616 ])"
      ]
     },
     "execution_count": 37,
     "metadata": {},
     "output_type": "execute_result"
    }
   ],
   "source": [
    "Y_predict_test = lr.predict(X_test)\n",
    "Y_predict_test"
   ]
  },
  {
   "cell_type": "markdown",
   "metadata": {},
   "source": [
    "Podemos plotar os dados Y_test para comparar os resultados e verificar se o modelo teve um bom resultado."
   ]
  },
  {
   "cell_type": "code",
   "execution_count": 38,
   "metadata": {},
   "outputs": [
    {
     "data": {
      "text/plain": [
       "172    4500000.00\n",
       "4513    345000.00\n",
       "4865    800000.00\n",
       "4979   4000000.00\n",
       "1255   5100000.00\n",
       "          ...    \n",
       "5240   1600000.00\n",
       "4472    580000.00\n",
       "3291   2200000.00\n",
       "432    1500000.00\n",
       "2455   2800000.00\n",
       "Name: Valor_anuncio, Length: 1326, dtype: float64"
      ]
     },
     "execution_count": 38,
     "metadata": {},
     "output_type": "execute_result"
    }
   ],
   "source": [
    "Y_test"
   ]
  },
  {
   "cell_type": "markdown",
   "metadata": {},
   "source": [
    "Podemos também, tentar predizer os dados de treino, que são os dados que o modelo já viu e, teóricamente, ele já saberia os resultados."
   ]
  },
  {
   "cell_type": "code",
   "execution_count": 39,
   "metadata": {},
   "outputs": [
    {
     "data": {
      "text/plain": [
       "array([2382512.85448673, 2571462.18044402, 2689030.64992855, ...,\n",
       "       2568662.93117058, 2655439.65864726, 2495882.4500611 ])"
      ]
     },
     "execution_count": 39,
     "metadata": {},
     "output_type": "execute_result"
    }
   ],
   "source": [
    "Y_predict_train = lr.predict(X_train)\n",
    "Y_predict_train"
   ]
  },
  {
   "cell_type": "markdown",
   "metadata": {},
   "source": [
    "Comparando os resultados, percebemos que ele se saiu bem pior. Nesse sentido, isso ocorre pois ele tenta encontrar uma reta que melhor se adeque aos dados, porém para os dados de treino, essa reta não foi suficientemente boa."
   ]
  },
  {
   "cell_type": "code",
   "execution_count": 40,
   "metadata": {},
   "outputs": [
    {
     "data": {
      "text/plain": [
       "3522    692000.00\n",
       "881    1490000.00\n",
       "769    2100000.00\n",
       "3364   6700000.00\n",
       "4674    622500.00\n",
       "          ...    \n",
       "3558   4280000.00\n",
       "3994   1500000.00\n",
       "5432   2300000.00\n",
       "4044   1600000.00\n",
       "948    3280000.00\n",
       "Name: Valor_anuncio, Length: 3977, dtype: float64"
      ]
     },
     "execution_count": 40,
     "metadata": {},
     "output_type": "execute_result"
    }
   ],
   "source": [
    "Y_train"
   ]
  },
  {
   "cell_type": "markdown",
   "metadata": {},
   "source": [
    "### Verificando outras métricas"
   ]
  },
  {
   "cell_type": "markdown",
   "metadata": {},
   "source": [
    "Algumas vezes, ficar comparando os dados preditos com os valores reais fica ruim de visualizar a eficiência do modelo. Por isso, temos algumas métricas úteis, como o `mean_absolute_error()`, que nos diz a soma da diferença entre os valores reais e previstos (como se fosse a quantidade de erros), e o \n",
    "`r2_score()`(r²), que nos dá a porcentagem do quão acertivo o modelo foi. Ou seja, na primeira métrica, quanto maior o valor pior, na segunda métrica, quando mais perto de 1 melhor, enquanto que, para números negativos nesta segunda métrica, significa que nosso modelo está regredindo."
   ]
  },
  {
   "cell_type": "code",
   "execution_count": 41,
   "metadata": {},
   "outputs": [
    {
     "data": {
      "text/plain": [
       "1770626.9062636306"
      ]
     },
     "execution_count": 41,
     "metadata": {},
     "output_type": "execute_result"
    }
   ],
   "source": [
    "from sklearn.metrics import mean_absolute_error, r2_score\n",
    "\n",
    "mean_absolute_error(Y_test, Y_predict_test)"
   ]
  },
  {
   "cell_type": "code",
   "execution_count": 42,
   "metadata": {},
   "outputs": [
    {
     "data": {
      "text/plain": [
       "0.1298305754042075"
      ]
     },
     "execution_count": 42,
     "metadata": {},
     "output_type": "execute_result"
    }
   ],
   "source": [
    "r2_score(Y_test, Y_predict_test)"
   ]
  },
  {
   "cell_type": "code",
   "execution_count": 43,
   "metadata": {},
   "outputs": [
    {
     "data": {
      "text/plain": [
       "1825220.303454906"
      ]
     },
     "execution_count": 43,
     "metadata": {},
     "output_type": "execute_result"
    }
   ],
   "source": [
    "mean_absolute_error(Y_train, Y_predict_train)"
   ]
  },
  {
   "cell_type": "code",
   "execution_count": 44,
   "metadata": {},
   "outputs": [
    {
     "data": {
      "text/plain": [
       "0.07399685087721253"
      ]
     },
     "execution_count": 44,
     "metadata": {},
     "output_type": "execute_result"
    }
   ],
   "source": [
    "r2_score(Y_train, Y_predict_train)\n"
   ]
  },
  {
   "cell_type": "markdown",
   "metadata": {},
   "source": [
    "Com as métricas acima, percebemos que nosso modelo está muito pouco acertivo quando comparamos apenas a Metragem. Nesse sentido, agora iremos adicionar outros atributos e verificar seu desempenho."
   ]
  },
  {
   "cell_type": "code",
   "execution_count": 45,
   "metadata": {},
   "outputs": [],
   "source": [
    "X = dados_vendas_censo[[\"Metragem\", \"Quartos\", \"Banheiros\", \"Vagas\", \"latitude\", \"longitude\", \"Situacao_setor\", \"V001\", \"V002\", \"V003\", \"V004\", \"V005\", \"V006\", \"V007\", \"V008\", \"V009\", \"V010\", \"V011\", \"V012\"]]\n",
    "Y = dados_vendas_censo[\"Valor_anuncio\"]\n",
    "\n",
    "X_train, X_test, Y_train, Y_test = train_test_split(X, Y, test_size = 0.25, random_state = 54)\n",
    "\n",
    "lr.fit(X_train, Y_train)\n",
    "Y_predict_test = lr.predict(X_test)\n",
    "Y_predict_train = lr.predict(X_train)\n",
    "\n",
    "mae_test = mean_absolute_error(Y_test, Y_predict_test)\n",
    "r2_test = r2_score(Y_test, Y_predict_test)\n",
    "mae_train = mean_absolute_error(Y_train, Y_predict_train)\n",
    "r2_train = r2_score(Y_train, Y_predict_train)"
   ]
  },
  {
   "cell_type": "markdown",
   "metadata": {},
   "source": [
    "Verificando as métricas, percebemos que teve uma grande melhora, mas ainda longe do ideal, onde nosso r², por exemplo, está chegando em 40% de acertividade."
   ]
  },
  {
   "cell_type": "code",
   "execution_count": 46,
   "metadata": {},
   "outputs": [
    {
     "data": {
      "text/plain": [
       "1333549.3273845937"
      ]
     },
     "execution_count": 46,
     "metadata": {},
     "output_type": "execute_result"
    }
   ],
   "source": [
    "mae_test"
   ]
  },
  {
   "cell_type": "code",
   "execution_count": 47,
   "metadata": {},
   "outputs": [
    {
     "data": {
      "text/plain": [
       "0.40346952482988363"
      ]
     },
     "execution_count": 47,
     "metadata": {},
     "output_type": "execute_result"
    }
   ],
   "source": [
    "r2_test"
   ]
  },
  {
   "cell_type": "code",
   "execution_count": 48,
   "metadata": {},
   "outputs": [
    {
     "data": {
      "text/plain": [
       "1336869.5575067613"
      ]
     },
     "execution_count": 48,
     "metadata": {},
     "output_type": "execute_result"
    }
   ],
   "source": [
    "mae_train"
   ]
  },
  {
   "cell_type": "code",
   "execution_count": 49,
   "metadata": {},
   "outputs": [
    {
     "data": {
      "text/plain": [
       "0.4284216741510203"
      ]
     },
     "execution_count": 49,
     "metadata": {},
     "output_type": "execute_result"
    }
   ],
   "source": [
    "r2_train"
   ]
  },
  {
   "cell_type": "markdown",
   "metadata": {},
   "source": [
    "### Gráfico"
   ]
  },
  {
   "cell_type": "markdown",
   "metadata": {},
   "source": [
    "Plotando um gráfico que nos dá uma ideia do valor real pelo valor previsto."
   ]
  },
  {
   "cell_type": "code",
   "execution_count": 50,
   "metadata": {},
   "outputs": [
    {
     "data": {
      "text/plain": [
       "<AxesSubplot:xlabel='Valor_anuncio'>"
      ]
     },
     "execution_count": 50,
     "metadata": {},
     "output_type": "execute_result"
    },
    {
     "data": {
      "image/png": "[encoded data removed]",
      "text/plain": [
       "<Figure size 720x720 with 1 Axes>"
      ]
     },
     "metadata": {},
     "output_type": "display_data"
    }
   ],
   "source": [
    "plt.figure(figsize=(10,10))\n",
    "sns.scatterplot(x= Y_test, y= Y_predict_test)"
   ]
  },
  {
   "cell_type": "markdown",
   "metadata": {},
   "source": [
    "## Desafios"
   ]
  },
  {
   "cell_type": "markdown",
   "metadata": {},
   "source": [
    "* Adicionar o valor \"real\" do m² do imóvel.\n",
    "\n",
    "* Testar outro modelo de regressão.\n",
    "\n",
    "* Criar um modelo baseline com as features originais.\n",
    "\n",
    "* Trabalhar mais nos dados e criar novas variáveis.\n",
    "\n",
    "* Testar as predições para casos reais.\n",
    "\n",
    "* Criar um projeto com os resultados da Imersão e postar nas redes sociais mostrando o trabalho realizado. Lembre-se de marcar a @AluraOnline e utilizar as hashtags #ImersãoDados e #ImersãoDados4."
   ]
  }
 ],
 "metadata": {
  "interpreter": {
   "hash": "aea149784bd30735ce6bf75b9a5314843328adf2083b944f20623ef50c2ca00d"
  },
  "kernelspec": {
   "display_name": "Python 3.9.12 ('base')",
   "language": "python",
   "name": "python3"
  },
  "language_info": {
   "codemirror_mode": {
    "name": "ipython",
    "version": 3
   },
   "file_extension": ".py",
   "mimetype": "text/x-python",
   "name": "python",
   "nbconvert_exporter": "python",
   "pygments_lexer": "ipython3",
   "version": "3.9.12"
  },
  "orig_nbformat": 4
 },
 "nbformat": 4,
 "nbformat_minor": 2
}
